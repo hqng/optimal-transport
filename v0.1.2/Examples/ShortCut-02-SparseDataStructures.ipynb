{
 "cells": [
  {
   "cell_type": "markdown",
   "metadata": {},
   "source": [
    "# ShortCut Solver"
   ]
  },
  {
   "cell_type": "markdown",
   "metadata": {},
   "source": [
    "Very similar to example 01-Basic. But this time with sparse data structure for coupling handler and cost function. Almost no memory demand."
   ]
  },
  {
   "cell_type": "code",
   "execution_count": null,
   "metadata": {
    "collapsed": false
   },
   "outputs": [],
   "source": [
    "# load libraries\n",
    "from lib.header_notebook import *\n",
    "\n",
    "# assume that CPLEX back-end is installed\n",
    "import Solvers.ShortCutSolver as ShortCutSolver\n",
    "import Solvers.ShortCutSolver_CPLEX as ShortCutSolver_CPLEX\n",
    "\n",
    "%matplotlib inline"
   ]
  },
  {
   "cell_type": "markdown",
   "metadata": {},
   "source": [
    "## Problem Setup"
   ]
  },
  {
   "cell_type": "code",
   "execution_count": null,
   "metadata": {
    "collapsed": false
   },
   "outputs": [],
   "source": [
    "# load two 128x128 images\n",
    "imgX=sciio.loadmat(\"data/density-img/f-000-128.mat\")[\"a\"]\n",
    "imgY=sciio.loadmat(\"data/density-img/f-001-128.mat\")[\"a\"]\n",
    "\n",
    "# preprocessing (add small constant background mass, normalize masses, extract geometric positions of pixels)\n",
    "(muX,posX)=OTTools.processDensity_Grid(imgX,totalMass=1.,constOffset=1E-6)\n",
    "(muY,posY)=OTTools.processDensity_Grid(imgY,totalMass=1.,constOffset=1E-6)"
   ]
  },
  {
   "cell_type": "code",
   "execution_count": null,
   "metadata": {
    "collapsed": false
   },
   "outputs": [],
   "source": [
    "# visualize images\n",
    "fig=plt.figure(figsize=(8,4))\n",
    "fig.add_subplot(1,2,1)\n",
    "plt.imshow(imgX)\n",
    "fig.add_subplot(1,2,2)\n",
    "plt.imshow(imgY)\n",
    "plt.show()"
   ]
  },
  {
   "cell_type": "code",
   "execution_count": null,
   "metadata": {
    "collapsed": false
   },
   "outputs": [],
   "source": [
    "# set up hierarchical partitions\n",
    "\n",
    "# finest layer above image has 2^partitionDepth grid points per dimension, then one below is image\n",
    "partitionDepth=6\n",
    "# another partition parameter, to be discussed later\n",
    "partitionChildMode=HierarchicalPartition.THPMode_Grid\n",
    "\n",
    "# create partitions from point clouds & measures, export partitions already to c++ library for later use\n",
    "(partitionX,pointerX)=HierarchicalPartition.GetPartition(posX,partitionDepth,partitionChildMode,imgX.shape, mu=muX,\\\n",
    "    signal_pos=True, signal_radii=False,clib=SolverCFC, export=True, verbose=False)\n",
    "\n",
    "(partitionY,pointerY)=HierarchicalPartition.GetPartition(posY,partitionDepth,partitionChildMode,imgY.shape, mu=muY,\\\n",
    "    signal_pos=True, signal_radii=True,clib=SolverCFC, export=True, verbose=False)\n",
    "\n",
    "pointerYpos=HierarchicalPartition.getSignalPointer(partitionY,\"pos\")\n",
    "pointerYradii=HierarchicalPartition.getSignalPointer(partitionY,\"radii\", lBottom=partitionY.nlayers-2)\n",
    "\n",
    "# prepare some aux information for sparse shielding method\n",
    "cList=[(partitionX.layers[nLayer][\"pos\"],partitionY.layers[nLayer][\"pos\"])\n",
    "        for nLayer in range(partitionX.nlayers)]\n",
    "\n",
    "\n",
    "# print a few stats on the created problem\n",
    "print(\"cells in partition x: \", partitionX.cardLayers)\n",
    "print(\"cells in partition y: \", partitionY.cardLayers)"
   ]
  },
  {
   "cell_type": "markdown",
   "metadata": {},
   "source": [
    "## Solving"
   ]
  },
  {
   "cell_type": "markdown",
   "metadata": {},
   "source": [
    "### Multiscale Solving"
   ]
  },
  {
   "cell_type": "code",
   "execution_count": null,
   "metadata": {
    "collapsed": false
   },
   "outputs": [],
   "source": [
    "# the algorithm has a modular structure. different components can be combined to final algorithm\n",
    "\n",
    "# refinement:\n",
    "#     generate initial fine coupling support when doing a layer refinement\n",
    "methodSetup_Refinement=ShortCutSolver.getMethodSetup_Refinement(pointerX,pointerY,SolverCFC)\n",
    "\n",
    "# coupling handler:\n",
    "#     create a fully sparse coupling handler that only allocates required entries and computes\n",
    "#     sparse cost on demand (only implemented for |x-y|^2 so far, but easy to extend)\n",
    "\n",
    "methodSetup_CouplingHandler=ShortCutSolver.getMethodSetup_CouplingHandler_Sparse_dynamicC(\\\n",
    "        ShortCutSolver.Setup_CostFunctionProvider_SqrEuclidean)\n",
    "\n",
    "# solver for sparse sub-problems\n",
    "#     in this example only use CPLEX solver (Lemon requires some more preprocessing of densities)\n",
    "#     couplingHandlerType must match the coupling handler chosen above (this time sparse variant, compare to example 01)\n",
    "#     initializeBases=True indicates that warm-starting the solver during iterations on same scale will be used.\n",
    "methodSetup_SubSolver=ShortCutSolver_CPLEX.getMethodSetup_SubSolver_CPLEX(\\\n",
    "        couplingHandlerType=ShortCutSolver_CPLEX.CH_Sparse,initializeBases=True)\n",
    "\n",
    "\n",
    "# shielding\n",
    "#     one must choose a shielding method that matches the geometry of the cost\n",
    "#     in this example we have the simplest possible case: squared Euclidean distance on regular Cartesian grid.\n",
    "#     so can choose simplest (and fastest) shielding method\n",
    "\n",
    "methodSetup_Shielding=ShortCutSolver.getMethodSetup_Shielding_Grid()"
   ]
  },
  {
   "cell_type": "code",
   "execution_count": null,
   "metadata": {
    "collapsed": false
   },
   "outputs": [],
   "source": [
    "# do multi-scale solving.\n",
    "#     algorithm gets all the chosen methods above and combines them into full ShortCut solver.\n",
    "#     solves successively from very coarse level to finest level\n",
    "#     is configured in verbose mode. at each level a small report is printed\n",
    "time1=datetime.datetime.now()\n",
    "result=ShortCutSolver.MultiscaleSolver(partitionX, partitionY, cList,\\\n",
    "    methodSetup_Refinement, methodSetup_CouplingHandler, methodSetup_SubSolver, methodSetup_Shielding,\\\n",
    "    nLayerInitial=1,nLayerFinal=None,\\\n",
    "    Verbose=True,\\\n",
    "    maxSteps=100,collectReports=True,measureTimes=True,stepwiseAnalysis=False)\n",
    "time2=datetime.datetime.now()\n",
    "print(time2-time1)"
   ]
  },
  {
   "cell_type": "markdown",
   "metadata": {},
   "source": [
    "#### Verify Shielding Condition and Optimality"
   ]
  },
  {
   "cell_type": "code",
   "execution_count": null,
   "metadata": {
    "collapsed": true
   },
   "outputs": [],
   "source": [
    "# no longer really elegantly feasible on sparse data structure (cost is only computed on demand)"
   ]
  },
  {
   "cell_type": "markdown",
   "metadata": {},
   "source": [
    "#### Check Objective"
   ]
  },
  {
   "cell_type": "code",
   "execution_count": null,
   "metadata": {
    "collapsed": false
   },
   "outputs": [],
   "source": [
    "# extract sparse data of optimal coupling, returns basically (data,indices,indptr)\n",
    "# for scipy.sparse.csr_sparse array of mu\n",
    "# full neighbourhood N upon termination of algorithm is returned\n",
    "mu=ShortCutSolver.CouplingHandler_Sparse_GetMu(result[0][\"pointer_couplinghandler\"])\n",
    "# csimilarly: cost entries on current neighbourhood N\n",
    "costdata=ShortCutSolver.CouplingHandler_Sparse_GetCost(result[0][\"pointer_couplinghandler\"],mu[0].shape[0])"
   ]
  },
  {
   "cell_type": "code",
   "execution_count": null,
   "metadata": {
    "collapsed": true
   },
   "outputs": [],
   "source": [
    "# dual potentials remain the same as in dense data structure\n",
    "alpha=result[0][\"result_subsolver\"][\"alpha\"]\n",
    "beta=result[0][\"result_subsolver\"][\"beta\"]"
   ]
  },
  {
   "cell_type": "code",
   "execution_count": null,
   "metadata": {
    "collapsed": false,
    "scrolled": true
   },
   "outputs": [],
   "source": [
    "# primal score\n",
    "np.sum(mu[0]*costdata)"
   ]
  },
  {
   "cell_type": "code",
   "execution_count": null,
   "metadata": {
    "collapsed": false
   },
   "outputs": [],
   "source": [
    "# dual score\n",
    "np.sum(alpha*muX)+np.sum(beta*muY)"
   ]
  },
  {
   "cell_type": "code",
   "execution_count": null,
   "metadata": {
    "collapsed": true
   },
   "outputs": [],
   "source": [
    "# extract sparse representation of optimal coupling, take only non-zero values\n",
    "muSupport=ShortCutSolver.CouplingHandler_Sparse_GetSupport(result[0][\"pointer_couplinghandler\"])"
   ]
  },
  {
   "cell_type": "code",
   "execution_count": null,
   "metadata": {
    "collapsed": true
   },
   "outputs": [],
   "source": [
    "# evaluate cost function on entries of muSupport\n",
    "costdataSupport=ShortCutSolver.CostFunctionProvider_Evaluate(result[0][\"result_couplinghandler\"][\"pointerCFP\"],\\\n",
    "        muSupport[1],muSupport[2])"
   ]
  },
  {
   "cell_type": "code",
   "execution_count": null,
   "metadata": {
    "collapsed": false
   },
   "outputs": [],
   "source": [
    "np.sum(muSupport[0]*costdataSupport)"
   ]
  },
  {
   "cell_type": "markdown",
   "metadata": {},
   "source": [
    "### Dense Solver"
   ]
  },
  {
   "cell_type": "code",
   "execution_count": null,
   "metadata": {
    "collapsed": true
   },
   "outputs": [],
   "source": [
    "# no longer really feasible, will in general need to much memory and require about 1h at 128x128 images"
   ]
  },
  {
   "cell_type": "markdown",
   "metadata": {},
   "source": [
    "### Cleaning Up"
   ]
  },
  {
   "cell_type": "code",
   "execution_count": null,
   "metadata": {
    "collapsed": true
   },
   "outputs": [],
   "source": [
    "ShortCutSolver.SolverClose(result[0][\"pointer\"])\n",
    "SolverCFC.Close(pointerX)\n",
    "SolverCFC.Close(pointerY)"
   ]
  },
  {
   "cell_type": "code",
   "execution_count": null,
   "metadata": {
    "collapsed": true
   },
   "outputs": [],
   "source": []
  }
 ],
 "metadata": {
  "kernelspec": {
   "display_name": "Python 3",
   "language": "python",
   "name": "python3"
  },
  "language_info": {
   "codemirror_mode": {
    "name": "ipython",
    "version": 3
   },
   "file_extension": ".py",
   "mimetype": "text/x-python",
   "name": "python",
   "nbconvert_exporter": "python",
   "pygments_lexer": "ipython3",
   "version": "3.4.2"
  }
 },
 "nbformat": 4,
 "nbformat_minor": 0
}
